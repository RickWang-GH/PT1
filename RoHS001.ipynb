{
  "cells": [
    {
      "cell_type": "markdown",
      "metadata": {
        "id": "view-in-github",
        "colab_type": "text"
      },
      "source": [
        "<a href=\"https://colab.research.google.com/github/RickWang-GH/PT1/blob/main/RoHS001.ipynb\" target=\"_parent\"><img src=\"https://colab.research.google.com/assets/colab-badge.svg\" alt=\"Open In Colab\"/></a>"
      ]
    },
    {
      "cell_type": "markdown",
      "metadata": {
        "id": "d4L9TOP9QSHn"
      },
      "source": [
        "## RoHS\n",
        "\n",
        "{{XX}} = THICK FILM RESISTOR, Capacitance(MLCC-SMT type)\n",
        "\n",
        "你是ROHS的專家, 專精RoHS文件的審查\n",
        "\n",
        "下列的{{XX}}電子零件, 請提供各類該電子零件的主要均質成分及各成分要進行RoHS承認時所需提供的均質報告\n",
        "\n",
        "\n",
        "請列表(共3欄)提供,\n",
        "\n",
        "第一欄 : 電子零件 : 英文為主, (中文)\n",
        "\n",
        "第二欄 : 主要均質成分 : 鍍層也要考慮在內\n",
        "分成各種材料分類 : 然後均質材料名稱 中文為主, (英文)\n",
        "若有電子零件，也條列\n",
        "例如, 以下是舉例\n",
        "電極材料：金屬化薄膜 (Metallized Film)\n",
        "介電材料：聚丙烯 (Polypropylene, PP)、聚酯 (Polyester, PET)\n",
        "封裝材料：環氧樹脂 (Epoxy Resin)、\n",
        "\n",
        "\n",
        "第三欄 : 所需提供的均質報告 : 中文為主, (英文)\n",
        "         同一格內，每一列一個均質報告\n"
      ]
    },
    {
      "cell_type": "markdown",
      "source": [],
      "metadata": {
        "id": "vHji4PGO5Tp8"
      }
    }
  ],
  "metadata": {
    "colab": {
      "name": "Overview of Colaboratory Features",
      "toc_visible": true,
      "provenance": [],
      "include_colab_link": true
    },
    "kernelspec": {
      "display_name": "Python 3",
      "name": "python3"
    }
  },
  "nbformat": 4,
  "nbformat_minor": 0
}